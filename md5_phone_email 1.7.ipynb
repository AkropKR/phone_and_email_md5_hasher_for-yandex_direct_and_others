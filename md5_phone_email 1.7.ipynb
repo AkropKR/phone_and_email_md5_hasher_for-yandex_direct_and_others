{
 "cells": [
  {
   "cell_type": "code",
   "execution_count": 1,
   "id": "a6f4f4f5",
   "metadata": {},
   "outputs": [
    {
     "name": "stdout",
     "output_type": "stream",
     "text": [
      "\n",
      "Type name of file with phones and emails. File should have .csv entension separated by commas. If you leave this field empty, script will use name \"md5_test_phone_email.csv\" noph_yes_email500.csv\n",
      "Columns of table with contacts are ['phone' 'email']\n",
      "\n",
      "Type name of column with phones. Fiels is case-sensitive. By default would be \"phone\" \n",
      "Type name of column with e-mails. Fiels is case-sensitive. By default would be \"email\" \n",
      "500 phones and 500 e-mails found\n",
      "File with phones and email hashes created. It is called \"phone_email_md5_2022_09_13__11_44_14.csv\"\n"
     ]
    }
   ],
   "source": [
    "import pandas as pd\n",
    "from pandas import Series,DataFrame\n",
    "import numpy as np\n",
    "\n",
    "import hashlib\n",
    "\n",
    "import os\n",
    "import datetime\n",
    "\n",
    "def get_cur_date_time_yyyy_mm_dd__hh_mm_ss():\n",
    "    cur_time = datetime.datetime.now()\n",
    "    curtime_str = str(cur_time).split(\" \")\n",
    "    curdate_yyyy_mm_dd_ready = curtime_str[0].split(\"-\")[0] + \"_\" + curtime_str[0].split(\"-\")[1] + \"_\" + curtime_str[0].split(\"-\")[2]\n",
    "    curtime_hh_mm_ss = curtime_str[1].split(\".\")[0]\n",
    "    curtime_hh_mm_ss_ready = curtime_hh_mm_ss.split(\":\")[0] + \"_\" + curtime_hh_mm_ss.split(\":\")[1] + \"_\" + curtime_hh_mm_ss.split(\":\")[2]\n",
    "    cur_date_time = curdate_yyyy_mm_dd_ready + \"__\" + curtime_hh_mm_ss_ready\n",
    "    return cur_date_time\n",
    "\n",
    "phone_md5_lst = []\n",
    "email_md5_lst = []\n",
    "name_of_table_with_contacts = ''\n",
    "\n",
    "name_of_phone_column = ''\n",
    "name_of_email_column = ''\n",
    "#name_of_table_with_contacts = input('Впиши название файла, в котором лежат телефоны и e-mail без точки и разрешения в конце. Файл должен быть в формате .csv с разделителями - запятыми. Если не впишешь, то будет \"тест_данные_для_look_alike_не_шифрованные(2)\" ') or 'тест_данные_для_look_alike_не_шифрованные(2).csv'\n",
    "\n",
    "\n",
    "cur_dir = os.getcwd()\n",
    "\n",
    "try:\n",
    "    list_of_files_in_current_directory = os.listdir()\n",
    "except:\n",
    "    print(\"Couldn't do os.listdir()\")\n",
    "\n",
    "#print(list_of_files_in_current_directory)\n",
    "#print()\n",
    "print(name_of_table_with_contacts)\n",
    "\n",
    "\n",
    "while name_of_table_with_contacts not in list_of_files_in_current_directory:\n",
    "        name_of_table_with_contacts = input('Type name of file with phones and emails. File should have .csv entension separated by commas. If you leave this field empty, script will use name \"md5_test_phone_email.csv\" ') or 'md5_test_phone_email.csv'\n",
    "        if name_of_table_with_contacts[-4::] != '.csv':\n",
    "            name_of_table_with_contacts += '.csv'\n",
    "        #print(name_of_table_with_contacts)\n",
    "try:\n",
    "    tel_mail_dataframe = pd.read_csv(f'{name_of_table_with_contacts}')\n",
    "except:\n",
    "    print(\"Incorrect filename. Try again\")\n",
    "\n",
    "print(f\"Columns of table with contacts are {tel_mail_dataframe.columns.values}\")\n",
    "print()    \n",
    "    \n",
    "while name_of_phone_column not in tel_mail_dataframe.columns:\n",
    "    name_of_phone_column = input('Type name of column with phones. Fiels is case-sensitive. By default would be \"phone\" ') or 'phone'\n",
    "while name_of_email_column not in tel_mail_dataframe.columns:\n",
    "    name_of_email_column = input('Type name of column with e-mails. Fiels is case-sensitive. By default would be \"email\" ') or 'email'    \n",
    "    \n",
    "try:\n",
    "    email_arr = tel_mail_dataframe[name_of_email_column].values\n",
    "except:\n",
    "    print(\"Couldn't read emails from dataframe into email_arr\")\n",
    "\n",
    "try:\n",
    "    phone_arr = tel_mail_dataframe[name_of_phone_column].values\n",
    "except:\n",
    "    print(\"Couldn't read phones from dataframe into phone_arr\")\n",
    "\n",
    "print(f\"{len(phone_arr)} phones and {len(email_arr)} e-mails found\") \n",
    "\n",
    "try:\n",
    "    for index in range(len(phone_arr)):\n",
    "        phone_hash_object = hashlib.md5(str(phone_arr[index]).encode())\n",
    "        phone_md5_lst.append(phone_hash_object.hexdigest())\n",
    "\n",
    "        email_hash_object = hashlib.md5(str(email_arr[index]).encode())\n",
    "        email_md5_lst.append(email_hash_object.hexdigest())\n",
    "except:\n",
    "    print(\"Couldn't hash emails and phones\")\n",
    "\n",
    "try:    \n",
    "    phone_md5_series = Series(phone_md5_lst)\n",
    "    email_md5_series = Series(email_md5_lst)\n",
    "except:\n",
    "    print(\"Couldn't put hashes of emails and phones into serieses\")\n",
    "\n",
    "try:\n",
    "    phone_email_md5_df = pd.DataFrame({'phone': phone_md5_series,\n",
    "                       'email': email_md5_series})\n",
    "except:\n",
    "    print(\"Couldn't do DataFrame with serieses of hashes of emails and phones\")\n",
    "    \n",
    "    \n",
    "#cur_dir = os.getcwd()\n",
    "\n",
    "try:\n",
    "    hashed_phone_email_md5_filename = f\"phone_email_md5_{get_cur_date_time_yyyy_mm_dd__hh_mm_ss()}.csv\"\n",
    "except:\n",
    "    print(\"Couldn't make filename with time and date\")\n",
    "\n",
    "try:    \n",
    "    phone_email_md5_df.to_csv(f'{hashed_phone_email_md5_filename}', sep=',',encoding='utf-8', index=False)\n",
    "except:\n",
    "    print(\"Couldn't write DataFrame with hashes into .csv file\")\n",
    "\n",
    "print(f'File with phones and email hashes created. It is called \"{hashed_phone_email_md5_filename}\"')"
   ]
  },
  {
   "cell_type": "code",
   "execution_count": null,
   "id": "6d2de78f",
   "metadata": {},
   "outputs": [],
   "source": []
  },
  {
   "cell_type": "code",
   "execution_count": 5,
   "id": "eaa0c557",
   "metadata": {},
   "outputs": [
    {
     "data": {
      "text/plain": [
       "Index(['phone', 'Unnamed: 1', 'email'], dtype='object')"
      ]
     },
     "execution_count": 5,
     "metadata": {},
     "output_type": "execute_result"
    }
   ],
   "source": [
    "tel_mail_dataframe.columns"
   ]
  },
  {
   "cell_type": "code",
   "execution_count": 2,
   "id": "b9967b63",
   "metadata": {},
   "outputs": [
    {
     "name": "stdout",
     "output_type": "stream",
     "text": [
      "['.ipynb_checkpoints', '200 строк из них есть двойные почты с запятыми и скобками.csv', 'hash_contacts_csv_into_md5_csv (2).py', 'md5_phone_email (2).ipynb', 'md5_test_phone_email.csv', 'phone_email_md5_2022_06_02__12_36_12.csv', 'phone_email_md5_2022_06_02__13_07_47.csv', 'phone_email_md5_2022_06_02__13_43_01.csv', 'phone_email_md5_2022_06_02__13_45_59.csv', 'phone_email_md5_2022_06_02__13_46_40.csv', 'phone_email_md5_2022_06_02__13_48_13.csv', 'phone_email_md5_2022_06_02__14_12_50.csv', 'phone_email_md5_2022_06_02__14_13_18.csv', 'phone_email_md5_2022_06_02__14_15_14.csv', 'phone_email_md5_2022_06_02__14_16_05.csv', 'phone_email_md5_2022_06_03__17_07_01.csv', 'Untitled (3).ipynb', 'тест данные для look alike не шифрованные (4).csv', 'тест данные для look alike не шифрованные (5).csv', 'тест_данные_для_look_alike_не_шифрованные(2) (2).csv']\n",
      "\n",
      "\n",
      "Впиши название файла, в котором лежат телефоны и e-mail. Файл должен быть в формате .csv с разделителями - запятыми. Если не впишешь, то будет \"md5_test_phone_email.csv\" \n",
      "md5_test_phone_email.csv\n",
      "Впиши название столбца с телефонами с учетом регистра. Если ничего не напишешь, то будет \"phone\" \n",
      "Впиши название столбца с e-mail'ами с учетом регистра. Если ничего не напишешь, то будет 'email' \n",
      "Обнаружено 127 телефонов и 127 e-mail'ов\n",
      "Создан файл с хешированными телефонами и e-mail. Он называется \"phone_email_md5_2022_06_06__18_02_26.csv\"\n"
     ]
    }
   ],
   "source": [
    "import pandas as pd\n",
    "from pandas import Series,DataFrame\n",
    "import numpy as np\n",
    "\n",
    "import hashlib\n",
    "\n",
    "import os\n",
    "import datetime\n",
    "\n",
    "def get_cur_date_time_yyyy_mm_dd__hh_mm_ss():\n",
    "    cur_time = datetime.datetime.now()\n",
    "    curtime_str = str(cur_time).split(\" \")\n",
    "    curdate_yyyy_mm_dd_ready = curtime_str[0].split(\"-\")[0] + \"_\" + curtime_str[0].split(\"-\")[1] + \"_\" + curtime_str[0].split(\"-\")[2]\n",
    "    curtime_hh_mm_ss = curtime_str[1].split(\".\")[0]\n",
    "    curtime_hh_mm_ss_ready = curtime_hh_mm_ss.split(\":\")[0] + \"_\" + curtime_hh_mm_ss.split(\":\")[1] + \"_\" + curtime_hh_mm_ss.split(\":\")[2]\n",
    "    cur_date_time = curdate_yyyy_mm_dd_ready + \"__\" + curtime_hh_mm_ss_ready\n",
    "    return cur_date_time\n",
    "\n",
    "phone_md5_lst = []\n",
    "email_md5_lst = []\n",
    "name_of_table_with_contacts = ''\n",
    "\n",
    "#name_of_table_with_contacts = input('Впиши название файла, в котором лежат телефоны и e-mail без точки и разрешения в конце. Файл должен быть в формате .csv с разделителями - запятыми. Если не впишешь, то будет \"тест_данные_для_look_alike_не_шифрованные(2)\" ') or 'тест_данные_для_look_alike_не_шифрованные(2).csv'\n",
    "\n",
    "\n",
    "cur_dir = os.getcwd()\n",
    "list_of_files_in_current_directory = os.listdir()\n",
    "print(list_of_files_in_current_directory)\n",
    "print()\n",
    "print(name_of_table_with_contacts)\n",
    "\n",
    "\n",
    "while name_of_table_with_contacts not in list_of_files_in_current_directory:\n",
    "        name_of_table_with_contacts = input('Впиши название файла, в котором лежат телефоны и e-mail. Файл должен быть в формате .csv с разделителями - запятыми. Если не впишешь, то будет \"md5_test_phone_email.csv\" ') or 'md5_test_phone_email.csv'\n",
    "        if name_of_table_with_contacts[-4::] != '.csv':\n",
    "            name_of_table_with_contacts += '.csv'\n",
    "        print(name_of_table_with_contacts)\n",
    "try:\n",
    "    tel_mail_dataframe = pd.read_csv(f'{name_of_table_with_contacts}')\n",
    "except:\n",
    "    print(\"Incorrect filename. Try again\")\n",
    "    \n",
    "\n",
    "name_of_phone_column = input('Впиши название столбца с телефонами с учетом регистра. Если ничего не напишешь, то будет \"phone\" ') or 'phone'\n",
    "name_of_email_column = input(\"Впиши название столбца с e-mail'ами с учетом регистра. Если ничего не напишешь, то будет 'email' \") or 'email'\n",
    "\n",
    "\n",
    "\n",
    "email_arr = tel_mail_dataframe[name_of_email_column].values\n",
    "phone_arr = tel_mail_dataframe[name_of_phone_column].values\n",
    "\n",
    "print(f\"Обнаружено {len(phone_arr)} телефонов и {len(email_arr)} e-mail'ов\") \n",
    "\n",
    "for index in range(len(phone_arr)):\n",
    "    phone_hash_object = hashlib.md5(str(phone_arr[index]).encode())\n",
    "    phone_md5_lst.append(phone_hash_object.hexdigest())\n",
    "    \n",
    "    email_hash_object = hashlib.md5(str(email_arr[index]).encode())\n",
    "    email_md5_lst.append(email_hash_object.hexdigest())\n",
    "    \n",
    "phone_md5_series = Series(phone_md5_lst)\n",
    "email_md5_series = Series(phone_md5_lst)\n",
    "\n",
    "phone_email_md5_df = pd.DataFrame({'phone': phone_md5_series,\n",
    "                   'email': email_md5_series})\n",
    "\n",
    "cur_dir = os.getcwd()\n",
    "\n",
    "hashed_phone_email_md5_filename = f\"phone_email_md5_{get_cur_date_time_yyyy_mm_dd__hh_mm_ss()}.csv\"\n",
    "\n",
    "phone_email_md5_df.to_csv(f'{hashed_phone_email_md5_filename}', sep=',',encoding='utf-8', index=False)\n",
    "\n",
    "print(f'Создан файл с хешированными телефонами и e-mail. Он называется \"{hashed_phone_email_md5_filename}\"')"
   ]
  },
  {
   "cell_type": "code",
   "execution_count": null,
   "id": "5595559f",
   "metadata": {},
   "outputs": [],
   "source": []
  },
  {
   "cell_type": "code",
   "execution_count": null,
   "id": "3ec12e50",
   "metadata": {},
   "outputs": [],
   "source": []
  },
  {
   "cell_type": "code",
   "execution_count": null,
   "id": "dd01ba10",
   "metadata": {},
   "outputs": [],
   "source": [
    "import pandas as pd\n",
    "from pandas import Series,DataFrame\n",
    "import numpy as np\n",
    "\n",
    "import hashlib\n",
    "\n",
    "import os\n",
    "import datetime\n"
   ]
  },
  {
   "cell_type": "code",
   "execution_count": null,
   "id": "0abff17a",
   "metadata": {},
   "outputs": [],
   "source": [
    "def get_cur_date_time_yyyy_mm_dd__hh_mm_ss():\n",
    "    cur_time = datetime.datetime.now()\n",
    "    curtime_str = str(cur_time).split(\" \")\n",
    "    curdate_yyyy_mm_dd_ready = curtime_str[0].split(\"-\")[0] + \"_\" + curtime_str[0].split(\"-\")[1] + \"_\" + curtime_str[0].split(\"-\")[2]\n",
    "    curtime_hh_mm_ss = curtime_str[1].split(\".\")[0]\n",
    "    curtime_hh_mm_ss_ready = curtime_hh_mm_ss.split(\":\")[0] + \"_\" + curtime_hh_mm_ss.split(\":\")[1] + \"_\" + curtime_hh_mm_ss.split(\":\")[2]\n",
    "    cur_date_time = curdate_yyyy_mm_dd_ready + \"__\" + curtime_hh_mm_ss_ready\n",
    "    return cur_date_time"
   ]
  },
  {
   "cell_type": "code",
   "execution_count": null,
   "id": "976d7707",
   "metadata": {},
   "outputs": [],
   "source": [
    "tel_mail_dataframe = pd.read_csv('тест_данные_для_look_alike_не_шифрованные(2).csv')"
   ]
  },
  {
   "cell_type": "code",
   "execution_count": null,
   "id": "5c41b983",
   "metadata": {},
   "outputs": [],
   "source": [
    "phone_arr = tel_mail_dataframe['phone'].values\n",
    "email_arr = tel_mail_dataframe['email'].values"
   ]
  },
  {
   "cell_type": "code",
   "execution_count": null,
   "id": "f441e3f3",
   "metadata": {},
   "outputs": [],
   "source": [
    "print(phone_arr)\n",
    "print(len(phone_arr))"
   ]
  },
  {
   "cell_type": "code",
   "execution_count": null,
   "id": "f308b8f0",
   "metadata": {},
   "outputs": [],
   "source": [
    "phone_md5_lst = []\n",
    "email_md5_lst = []"
   ]
  },
  {
   "cell_type": "code",
   "execution_count": null,
   "id": "bb818f14",
   "metadata": {},
   "outputs": [],
   "source": [
    "for index in range(len(phone_arr)):\n",
    "    phone_hash_object = hashlib.md5(str(phone_arr[index]).encode())\n",
    "    phone_md5_lst.append(phone_hash_object.hexdigest())\n",
    "    \n",
    "    email_hash_object = hashlib.md5(str(email_arr[index]).encode())\n",
    "    email_md5_lst.append(email_hash_object.hexdigest())\n",
    "    \n",
    "phone_md5_series = Series(phone_md5_lst)\n",
    "email_md5_series = Series(phone_md5_lst)"
   ]
  },
  {
   "cell_type": "code",
   "execution_count": null,
   "id": "449e25c7",
   "metadata": {},
   "outputs": [],
   "source": [
    "phone_email_md5_df = pd.DataFrame({'phone': phone_md5_series,\n",
    "                   'email': email_md5_series})"
   ]
  },
  {
   "cell_type": "code",
   "execution_count": null,
   "id": "4d1e476a",
   "metadata": {},
   "outputs": [],
   "source": [
    "phone_email_md5_df"
   ]
  },
  {
   "cell_type": "code",
   "execution_count": null,
   "id": "4cee4572",
   "metadata": {},
   "outputs": [],
   "source": [
    "cur_dir = os.getcwd()\n",
    "\n",
    "phone_email_md5_df.to_csv(f\"phone_email_md5_{get_cur_date_time_yyyy_mm_dd__hh_mm_ss()}.csv\", sep=\",\",encoding='utf-8', index=False)\n"
   ]
  },
  {
   "cell_type": "code",
   "execution_count": null,
   "id": "90cf7c9d",
   "metadata": {},
   "outputs": [],
   "source": []
  }
 ],
 "metadata": {
  "kernelspec": {
   "display_name": "Python 3 (ipykernel)",
   "language": "python",
   "name": "python3"
  },
  "language_info": {
   "codemirror_mode": {
    "name": "ipython",
    "version": 3
   },
   "file_extension": ".py",
   "mimetype": "text/x-python",
   "name": "python",
   "nbconvert_exporter": "python",
   "pygments_lexer": "ipython3",
   "version": "3.9.12"
  }
 },
 "nbformat": 4,
 "nbformat_minor": 5
}
